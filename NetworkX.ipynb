{
  "nbformat": 4,
  "nbformat_minor": 0,
  "metadata": {
    "colab": {
      "name": "NetworkX.ipynb",
      "provenance": [],
      "collapsed_sections": [],
      "authorship_tag": "ABX9TyNSqCnRlzZ07KvcIXB0P8I/",
      "include_colab_link": true
    },
    "kernelspec": {
      "name": "python3",
      "display_name": "Python 3"
    }
  },
  "cells": [
    {
      "cell_type": "markdown",
      "metadata": {
        "id": "view-in-github",
        "colab_type": "text"
      },
      "source": [
        "<a href=\"https://colab.research.google.com/github/thecodemancer/Playing-with-Graphs/blob/main/NetworkX.ipynb\" target=\"_parent\"><img src=\"https://colab.research.google.com/assets/colab-badge.svg\" alt=\"Open In Colab\"/></a>"
      ]
    },
    {
      "cell_type": "markdown",
      "metadata": {
        "id": "Zefaq6XlVPs2"
      },
      "source": [
        "# Creating a graph with **NetworkX**\n"
      ]
    },
    {
      "cell_type": "code",
      "metadata": {
        "id": "iy2R4UQYSNSn"
      },
      "source": [
        "import numpy as np\n",
        "import networkx as nx\n"
      ],
      "execution_count": null,
      "outputs": []
    },
    {
      "cell_type": "code",
      "metadata": {
        "colab": {
          "base_uri": "https://localhost:8080/"
        },
        "id": "JcckRTqcSOBB",
        "outputId": "6ff30e0b-119f-4bff-aa86-a771c918acbc"
      },
      "source": [
        "G=nx.Graph()\n",
        "G"
      ],
      "execution_count": null,
      "outputs": [
        {
          "output_type": "execute_result",
          "data": {
            "text/plain": [
              "<networkx.classes.graph.Graph at 0x7f1f47180e48>"
            ]
          },
          "metadata": {
            "tags": []
          },
          "execution_count": 3
        }
      ]
    },
    {
      "cell_type": "code",
      "metadata": {
        "id": "KHe6UIB9SVnQ"
      },
      "source": [
        "G.add_node(1)\n",
        "G.add_nodes_from([2, 3])\n",
        "G.add_nodes_from([\n",
        " (4, {\"color\": \"red\"}),\n",
        " (5, {\"color\": \"green\"}),\n",
        " ])\n"
      ],
      "execution_count": null,
      "outputs": []
    },
    {
      "cell_type": "code",
      "metadata": {
        "colab": {
          "base_uri": "https://localhost:8080/"
        },
        "id": "AArB7IR4SZES",
        "outputId": "8ccb8ac2-3f26-40fb-a8e5-734a456f6db6"
      },
      "source": [
        "G"
      ],
      "execution_count": null,
      "outputs": [
        {
          "output_type": "execute_result",
          "data": {
            "text/plain": [
              "<networkx.classes.graph.Graph at 0x7f1f47180e48>"
            ]
          },
          "metadata": {
            "tags": []
          },
          "execution_count": 7
        }
      ]
    },
    {
      "cell_type": "code",
      "metadata": {
        "colab": {
          "base_uri": "https://localhost:8080/"
        },
        "id": "Np7eJnsBShQ7",
        "outputId": "daef7180-83c8-4458-fcb5-a4fb8f2a171a"
      },
      "source": [
        "H = nx.path_graph(10)\n",
        "G.add_nodes_from(H)\n",
        "G"
      ],
      "execution_count": null,
      "outputs": [
        {
          "output_type": "execute_result",
          "data": {
            "text/plain": [
              "<networkx.classes.graph.Graph at 0x7f1f47180e48>"
            ]
          },
          "metadata": {
            "tags": []
          },
          "execution_count": 8
        }
      ]
    },
    {
      "cell_type": "code",
      "metadata": {
        "id": "99PpgjdBSnWV"
      },
      "source": [
        "G.add_edge(1, 2)\n",
        "e = (2, 3)\n",
        "G.add_edge(*e) # unpack edge tuple*"
      ],
      "execution_count": null,
      "outputs": []
    },
    {
      "cell_type": "code",
      "metadata": {
        "id": "_TgVVpWXSs3a"
      },
      "source": [
        "G.add_edges_from([(1, 2), (1, 3)])"
      ],
      "execution_count": null,
      "outputs": []
    },
    {
      "cell_type": "code",
      "metadata": {
        "id": "UBaabtcmSvI8"
      },
      "source": [
        " G.add_edges_from(H.edges)\n"
      ],
      "execution_count": null,
      "outputs": []
    },
    {
      "cell_type": "code",
      "metadata": {
        "colab": {
          "base_uri": "https://localhost:8080/"
        },
        "id": "QxnhNiW2SxyC",
        "outputId": "6776aca0-38c5-4a42-86dd-f26c06bd34fe"
      },
      "source": [
        "G.number_of_nodes()\n"
      ],
      "execution_count": null,
      "outputs": [
        {
          "output_type": "execute_result",
          "data": {
            "text/plain": [
              "10"
            ]
          },
          "metadata": {
            "tags": []
          },
          "execution_count": 12
        }
      ]
    },
    {
      "cell_type": "code",
      "metadata": {
        "colab": {
          "base_uri": "https://localhost:8080/"
        },
        "id": "EGAC4x1PS3a3",
        "outputId": "bcc67e5f-2567-469b-b140-09abf1e6affc"
      },
      "source": [
        "G.number_of_edges()"
      ],
      "execution_count": null,
      "outputs": [
        {
          "output_type": "execute_result",
          "data": {
            "text/plain": [
              "10"
            ]
          },
          "metadata": {
            "tags": []
          },
          "execution_count": 13
        }
      ]
    },
    {
      "cell_type": "code",
      "metadata": {
        "colab": {
          "base_uri": "https://localhost:8080/"
        },
        "id": "bYuxa8CuS5BK",
        "outputId": "56ac7350-c8cb-4ad2-93dc-f9c67307ec17"
      },
      "source": [
        "G.nodes"
      ],
      "execution_count": null,
      "outputs": [
        {
          "output_type": "execute_result",
          "data": {
            "text/plain": [
              "NodeView((1, 2, 3, 4, 5, 0, 6, 7, 8, 9))"
            ]
          },
          "metadata": {
            "tags": []
          },
          "execution_count": 14
        },
        {
          "output_type": "execute_result",
          "data": {
            "text/plain": [
              "NodeView((1, 2, 3, 4, 5, 0, 6, 7, 8, 9))"
            ]
          },
          "metadata": {
            "tags": []
          },
          "execution_count": 15
        }
      ]
    },
    {
      "cell_type": "code",
      "metadata": {
        "colab": {
          "base_uri": "https://localhost:8080/"
        },
        "id": "ZDq4kuGyS-ZE",
        "outputId": "8a10d0a7-8dff-443e-860d-5f666b4e36aa"
      },
      "source": [
        "G.edges"
      ],
      "execution_count": null,
      "outputs": [
        {
          "output_type": "execute_result",
          "data": {
            "text/plain": [
              "EdgeView([(1, 2), (1, 3), (1, 0), (2, 3), (3, 4), (4, 5), (5, 6), (6, 7), (7, 8), (8, 9)])"
            ]
          },
          "metadata": {
            "tags": []
          },
          "execution_count": 16
        }
      ]
    },
    {
      "cell_type": "code",
      "metadata": {
        "colab": {
          "base_uri": "https://localhost:8080/"
        },
        "id": "phwlnmanTBwg",
        "outputId": "107bf920-1170-4873-ff36-7399c89b50bd"
      },
      "source": [
        "list(G.adj[1]) # or list(G.neighbors(1))"
      ],
      "execution_count": null,
      "outputs": [
        {
          "output_type": "execute_result",
          "data": {
            "text/plain": [
              "[2, 3, 0]"
            ]
          },
          "metadata": {
            "tags": []
          },
          "execution_count": 17
        }
      ]
    },
    {
      "cell_type": "code",
      "metadata": {
        "colab": {
          "base_uri": "https://localhost:8080/"
        },
        "id": "06yyClntTNbp",
        "outputId": "6206e726-932a-4c5a-950b-76853faf49cf"
      },
      "source": [
        "G.degree[1] # the number of edges incident to 1"
      ],
      "execution_count": null,
      "outputs": [
        {
          "output_type": "execute_result",
          "data": {
            "text/plain": [
              "3"
            ]
          },
          "metadata": {
            "tags": []
          },
          "execution_count": 18
        }
      ]
    },
    {
      "cell_type": "code",
      "metadata": {
        "colab": {
          "base_uri": "https://localhost:8080/"
        },
        "id": "ew1Dxa9UTPF2",
        "outputId": "956b8892-83c8-4cbb-8b81-11e4e94922f1"
      },
      "source": [
        "G.edges([2, 'm'])\n"
      ],
      "execution_count": null,
      "outputs": [
        {
          "output_type": "execute_result",
          "data": {
            "text/plain": [
              "EdgeDataView([(2, 1), (2, 3)])"
            ]
          },
          "metadata": {
            "tags": []
          },
          "execution_count": 19
        }
      ]
    },
    {
      "cell_type": "code",
      "metadata": {
        "colab": {
          "base_uri": "https://localhost:8080/"
        },
        "id": "C8BvEuJUTZ7R",
        "outputId": "ecafa05d-f22a-49d5-f943-9b5a1b6b021b"
      },
      "source": [
        "G.degree([2, 3])"
      ],
      "execution_count": null,
      "outputs": [
        {
          "output_type": "execute_result",
          "data": {
            "text/plain": [
              "DegreeView({2: 2, 3: 3})"
            ]
          },
          "metadata": {
            "tags": []
          },
          "execution_count": 20
        }
      ]
    },
    {
      "cell_type": "code",
      "metadata": {
        "id": "aDg-PORzTaP3"
      },
      "source": [
        "G.remove_node(2)\n",
        "G.remove_edge(1, 3)\n"
      ],
      "execution_count": null,
      "outputs": []
    },
    {
      "cell_type": "code",
      "metadata": {
        "colab": {
          "base_uri": "https://localhost:8080/"
        },
        "id": "G5t834SNTjYj",
        "outputId": "cec4ccc5-589b-4db5-90a3-df8415065d58"
      },
      "source": [
        "G[1]"
      ],
      "execution_count": null,
      "outputs": [
        {
          "output_type": "execute_result",
          "data": {
            "text/plain": [
              "AtlasView({0: {}})"
            ]
          },
          "metadata": {
            "tags": []
          },
          "execution_count": 22
        }
      ]
    },
    {
      "cell_type": "code",
      "metadata": {
        "colab": {
          "base_uri": "https://localhost:8080/"
        },
        "id": "mWtSvHrjT81i",
        "outputId": "ee114751-23cd-4b73-9582-033f0f5c9dbf"
      },
      "source": [
        "G.graph['day'] = \"Monday\"\n",
        "G.graph"
      ],
      "execution_count": null,
      "outputs": [
        {
          "output_type": "execute_result",
          "data": {
            "text/plain": [
              "{'day': 'Monday'}"
            ]
          },
          "metadata": {
            "tags": []
          },
          "execution_count": 24
        }
      ]
    },
    {
      "cell_type": "code",
      "metadata": {
        "colab": {
          "base_uri": "https://localhost:8080/"
        },
        "id": "prdacd28UMGn",
        "outputId": "1454f6a3-1a7c-4228-dd02-529bc15c73a3"
      },
      "source": [
        "G.nodes"
      ],
      "execution_count": null,
      "outputs": [
        {
          "output_type": "execute_result",
          "data": {
            "text/plain": [
              "NodeView((1, 3, 4, 5, 0, 6, 7, 8, 9))"
            ]
          },
          "metadata": {
            "tags": []
          },
          "execution_count": 25
        }
      ]
    },
    {
      "cell_type": "code",
      "metadata": {
        "colab": {
          "base_uri": "https://localhost:8080/"
        },
        "id": "Nxl-kthGUb5b",
        "outputId": "6fc2200e-6a6f-4f08-e833-371d23687c7e"
      },
      "source": [
        "G.nodes.data()"
      ],
      "execution_count": null,
      "outputs": [
        {
          "output_type": "execute_result",
          "data": {
            "text/plain": [
              "NodeDataView({1: {}, 3: {}, 4: {'color': 'red'}, 5: {'color': 'green'}, 0: {}, 6: {}, 7: {}, 8: {}, 9: {}})"
            ]
          },
          "metadata": {
            "tags": []
          },
          "execution_count": 26
        }
      ]
    },
    {
      "cell_type": "code",
      "metadata": {
        "colab": {
          "base_uri": "https://localhost:8080/"
        },
        "id": "79_ICIchUcLa",
        "outputId": "10e1af7e-6037-4f2d-dd0b-a139c678dbfc"
      },
      "source": [
        "red = nx.random_lobster(100, 0.9, 0.9)\n",
        "red"
      ],
      "execution_count": null,
      "outputs": [
        {
          "output_type": "execute_result",
          "data": {
            "text/plain": [
              "<networkx.classes.graph.Graph at 0x7f1f46e88470>"
            ]
          },
          "metadata": {
            "tags": []
          },
          "execution_count": 27
        }
      ]
    },
    {
      "cell_type": "code",
      "metadata": {
        "colab": {
          "base_uri": "https://localhost:8080/"
        },
        "id": "HNP1Fb0sU7QA",
        "outputId": "102038df-1c2d-44f4-ce29-e6d737ba3244"
      },
      "source": [
        "nx.clustering(G)"
      ],
      "execution_count": null,
      "outputs": [
        {
          "output_type": "execute_result",
          "data": {
            "text/plain": [
              "{0: 0, 1: 0, 3: 0, 4: 0, 5: 0, 6: 0, 7: 0, 8: 0, 9: 0}"
            ]
          },
          "metadata": {
            "tags": []
          },
          "execution_count": 28
        }
      ]
    },
    {
      "cell_type": "markdown",
      "metadata": {
        "id": "8EOiKEoOVJrj"
      },
      "source": [
        "# Drawing graphs\n"
      ]
    },
    {
      "cell_type": "code",
      "metadata": {
        "colab": {
          "base_uri": "https://localhost:8080/",
          "height": 286
        },
        "id": "BiEtsRrjVFQO",
        "outputId": "c2a02b2f-5851-4ce8-d1d1-fb82b6eb299a"
      },
      "source": [
        "import matplotlib.pyplot as plt\n",
        "plt.subplot(121)\n"
      ],
      "execution_count": null,
      "outputs": [
        {
          "output_type": "execute_result",
          "data": {
            "text/plain": [
              "<matplotlib.axes._subplots.AxesSubplot at 0x7f1f3f1baf60>"
            ]
          },
          "metadata": {
            "tags": []
          },
          "execution_count": 29
        },
        {
          "output_type": "display_data",
          "data": {
            "image/png": "[encoded data removed]",
            "text/plain": [
              "<Figure size 432x288 with 1 Axes>"
            ]
          },
          "metadata": {
            "tags": [],
            "needs_background": "light"
          }
        }
      ]
    },
    {
      "cell_type": "code",
      "metadata": {
        "colab": {
          "base_uri": "https://localhost:8080/",
          "height": 318
        },
        "id": "ofXFqQRIVbhp",
        "outputId": "5a14e462-4aeb-4f70-cabe-3c22e231610a"
      },
      "source": [
        "nx.draw(G, with_labels=True, font_weight='bold')"
      ],
      "execution_count": null,
      "outputs": [
        {
          "output_type": "display_data",
          "data": {
            "image/png": "[encoded data removed]",
            "text/plain": [
              "<Figure size 432x288 with 1 Axes>"
            ]
          },
          "metadata": {
            "tags": []
          }
        }
      ]
    },
    {
      "cell_type": "code",
      "metadata": {
        "colab": {
          "base_uri": "https://localhost:8080/"
        },
        "id": "6BmaoiCGVg90",
        "outputId": "d378255f-c820-4217-d3cb-c0bb527ed1db"
      },
      "source": [
        "G.clear()\n",
        "G"
      ],
      "execution_count": null,
      "outputs": [
        {
          "output_type": "execute_result",
          "data": {
            "text/plain": [
              "<networkx.classes.graph.Graph at 0x7f1f47180e48>"
            ]
          },
          "metadata": {
            "tags": []
          },
          "execution_count": 31
        }
      ]
    },
    {
      "cell_type": "code",
      "metadata": {
        "colab": {
          "base_uri": "https://localhost:8080/",
          "height": 318
        },
        "id": "f8Nppk1wVpVP",
        "outputId": "1d854eca-e0ca-4530-9321-a835d942c5fd"
      },
      "source": [
        "nx.draw(G, with_labels=True, font_weight='bold')"
      ],
      "execution_count": null,
      "outputs": [
        {
          "output_type": "display_data",
          "data": {
            "image/png": "[encoded data removed]",
            "text/plain": [
              "<Figure size 432x288 with 1 Axes>"
            ]
          },
          "metadata": {
            "tags": []
          }
        }
      ]
    },
    {
      "cell_type": "code",
      "metadata": {
        "colab": {
          "base_uri": "https://localhost:8080/",
          "height": 318
        },
        "id": "C10ckTZ6VrcJ",
        "outputId": "ea648723-50d3-4a62-8d64-a59fc0c20b93"
      },
      "source": [
        "nx.draw_shell(G, nlist=[range(5, 10), range(5)], with_labels=True, font_weight='bold')"
      ],
      "execution_count": null,
      "outputs": [
        {
          "output_type": "display_data",
          "data": {
            "image/png": "[encoded data removed]",
            "text/plain": [
              "<Figure size 432x288 with 1 Axes>"
            ]
          },
          "metadata": {
            "tags": []
          }
        }
      ]
    },
    {
      "cell_type": "code",
      "metadata": {
        "colab": {
          "base_uri": "https://localhost:8080/",
          "height": 318
        },
        "id": "cUjjCw1nVxcx",
        "outputId": "c68cd840-74c9-43b1-d4f3-e07a1cbea591"
      },
      "source": [
        "nx.draw_random(G)"
      ],
      "execution_count": null,
      "outputs": [
        {
          "output_type": "display_data",
          "data": {
            "image/png": "[encoded data removed]",
            "text/plain": [
              "<Figure size 432x288 with 1 Axes>"
            ]
          },
          "metadata": {
            "tags": []
          }
        }
      ]
    },
    {
      "cell_type": "code",
      "metadata": {
        "colab": {
          "base_uri": "https://localhost:8080/",
          "height": 318
        },
        "id": "3EmJQHlnWHBq",
        "outputId": "82fdac60-3c71-4a31-9981-e4b16002be67"
      },
      "source": [
        "G = nx.dodecahedral_graph()\n",
        "shells = [[2, 3, 4, 5, 6], [8, 1, 0, 19, 18, 17, 16, 15, 14, 7], [9, 10, 11, 12, 13]] \n",
        "nx.draw_shell(G, nlist=shells)"
      ],
      "execution_count": null,
      "outputs": [
        {
          "output_type": "display_data",
          "data": {
            "image/png": "[encoded data removed]",
            "text/plain": [
              "<Figure size 432x288 with 1 Axes>"
            ]
          },
          "metadata": {
            "tags": []
          }
        }
      ]
    },
    {
      "cell_type": "code",
      "metadata": {
        "id": "JrdjouIsWf_r"
      },
      "source": [
        "x=np.array([1,2,3,4,5,6,7,8,9,10,11,12,13,14,15,16,17,18,19,20])\n",
        "A=np.array([[0,1,1,1,0,1,0,0,0,0,0,0,0,0,0,0,0,0,0,0],\n",
        "           [1,0,0,1,1,0,0,1,0,0,0,0,0,0,0,0,0,0,0,0],\n",
        "           [1,0,0,1,0,1,0,0,1,0,0,0,0,0,0,0,0,0,0,0],\n",
        "           [1,1,1,0,0,0,1,0,1,1,0,0,0,0,0,0,0,0,0,0],\n",
        "           [0,1,0,0,0,1,0,1,1,0,0,0,0,0,0,0,0,0,0,0],\n",
        "           [1,0,1,0,1,0,1,1,0,1,0,0,0,0,0,0,0,0,0,0],\n",
        "           [0,0,0,1,0,1,0,0,1,1,0,0,0,0,0,0,0,0,0,0],\n",
        "           [0,1,0,0,1,1,0,0,0,1,1,0,0,0,0,0,0,0,0,0],\n",
        "           [0,0,1,1,1,0,1,0,0,0,0,1,0,0,0,0,0,0,0,0],\n",
        "           [0,0,0,1,0,1,1,1,0,0,0,0,0,0,0,0,0,0,0,0],\n",
        "           [0,0,0,0,0,0,0,1,0,0,0,1,1,1,1,0,1,1,0,0],\n",
        "           [0,0,0,0,0,0,0,0,1,0,1,0,1,1,1,0,0,0,1,0],\n",
        "           [0,0,0,0,0,0,0,0,0,0,1,1,0,1,0,1,0,1,0,0],\n",
        "           [0,0,0,0,0,0,0,0,0,0,1,1,1,0,1,1,0,1,1,0],\n",
        "           [0,0,0,0,0,0,0,0,0,0,1,1,0,1,0,0,0,1,1,1],\n",
        "           [0,0,0,0,0,0,0,0,0,0,0,0,1,1,0,0,1,0,0,0],\n",
        "           [0,0,0,0,0,0,0,0,0,0,1,0,0,0,0,1,0,1,1,0],\n",
        "           [0,0,0,0,0,0,0,0,0,0,1,0,1,1,1,0,1,0,1,1],\n",
        "           [0,0,0,0,0,0,0,0,0,0,0,1,0,1,1,0,1,1,0,1],\n",
        "           [0,0,0,0,0,0,0,0,0,0,0,0,0,0,1,0,0,1,1,0]\n",
        "           ])"
      ],
      "execution_count": null,
      "outputs": []
    },
    {
      "cell_type": "code",
      "metadata": {
        "id": "NP2bx_wpXNxE"
      },
      "source": [
        "G.add_nodes_from( nodes_for_adding=x )"
      ],
      "execution_count": null,
      "outputs": []
    },
    {
      "cell_type": "code",
      "metadata": {
        "colab": {
          "base_uri": "https://localhost:8080/"
        },
        "id": "f6NkwLv7Xorl",
        "outputId": "3df25159-f9d9-4854-99ac-e0c2f2731204"
      },
      "source": [
        "G.nodes"
      ],
      "execution_count": null,
      "outputs": [
        {
          "output_type": "execute_result",
          "data": {
            "text/plain": [
              "NodeView((1, 2, 3, 4, 5, 6, 7, 8, 9, 10, 11, 12, 13, 14, 15, 16, 17, 18, 19, 20))"
            ]
          },
          "metadata": {
            "tags": []
          },
          "execution_count": 64
        }
      ]
    },
    {
      "cell_type": "code",
      "metadata": {
        "id": "IQ9Rgw69YG0p"
      },
      "source": [
        "G.add_edge( 1,2 )\n",
        "G.add_edge( 1,3 )\n",
        "G.add_edge( 1,4 )\n",
        "G.add_edge( 2,1 )\n",
        "G.add_edge( 2,4 )\n",
        "G.add_edge( 2,5 )\n",
        "G.add_edge( 2,8 )\n",
        "G.add_edge( 3,1 )\n",
        "G.add_edge( 3,4 )\n",
        "G.add_edge( 3,6 )\n",
        "G.add_edge( 3,9 )\n",
        "\n",
        "G.add_edge( 4,1 )\n",
        "G.add_edge( 4,3 )\n",
        "G.add_edge( 4,7 )\n",
        "G.add_edge( 4,9 )\n",
        "G.add_edge( 4,10 )\n",
        "\n",
        "G.add_edge( 5,2 )\n",
        "G.add_edge( 5,6 )\n",
        "G.add_edge( 5,8 )\n",
        "G.add_edge( 5,9 )\n",
        "\n",
        "G.add_edge( 6,1 )\n",
        "G.add_edge( 6,3 )\n",
        "G.add_edge( 6,5 )\n",
        "G.add_edge( 6,7 )\n",
        "G.add_edge( 6,8 )\n",
        "G.add_edge( 6,10 )\n",
        "\n",
        "G.add_edge( 7,4 )\n",
        "G.add_edge( 7,6 )\n",
        "G.add_edge( 7,9 )\n",
        "G.add_edge( 7,10 )\n",
        "\n",
        "G.add_edge( 8,2 )\n",
        "G.add_edge( 8,5 )\n",
        "G.add_edge( 8,6 )\n",
        "G.add_edge( 8,10 )\n",
        "G.add_edge( 8,11 )\n",
        "\n",
        "G.add_edge( 9,3 )\n",
        "G.add_edge( 9,4 )\n",
        "G.add_edge( 9,5 )\n",
        "G.add_edge( 9,7 )\n",
        "\n",
        "G.add_edge( 10,4 )\n",
        "G.add_edge( 10,6 )\n",
        "G.add_edge( 10,7 )\n",
        "G.add_edge( 10,8 )\n",
        "\n",
        "G.add_edge( 11,8 )\n",
        "G.add_edge( 11,12 )\n",
        "G.add_edge( 11,13 )\n",
        "G.add_edge( 11,14 )\n",
        "G.add_edge( 11,15 )\n",
        "G.add_edge( 11,17 )\n",
        "G.add_edge( 11,18 )\n",
        "\n",
        "G.add_edge( 12,9 )\n",
        "G.add_edge( 12,11 )\n",
        "G.add_edge( 12,13 )\n",
        "G.add_edge( 12,14 )\n",
        "G.add_edge( 12,15 )\n",
        "G.add_edge( 12,19 )\n",
        "\n",
        "G.add_edge( 13,11 )\n",
        "G.add_edge( 13,12 )\n",
        "G.add_edge( 13,14 )\n",
        "G.add_edge( 13,16 )\n",
        "G.add_edge( 13,18 )\n",
        "\n",
        "G.add_edge( 14,11 )\n",
        "G.add_edge( 14,12 )\n",
        "G.add_edge( 14,13 )\n",
        "G.add_edge( 14,15 )\n",
        "G.add_edge( 14,16 )\n",
        "G.add_edge( 14,18 )\n",
        "G.add_edge( 14,19 )\n",
        "\n",
        "G.add_edge( 15,12 )\n",
        "G.add_edge( 15,14 )\n",
        "G.add_edge( 15,18 )\n",
        "G.add_edge( 15,19 )\n",
        "G.add_edge( 15,20 )\n",
        "\n",
        "G.add_edge( 16,13 )\n",
        "G.add_edge( 16,14 )\n",
        "G.add_edge( 16,17 )\n",
        "\n",
        "G.add_edge( 17,16 )\n",
        "G.add_edge( 17,18 )\n",
        "G.add_edge( 17,19 )\n",
        "\n",
        "G.add_edge( 18,11 )\n",
        "G.add_edge( 18,13 )\n",
        "G.add_edge( 18,14 )\n",
        "G.add_edge( 18,15 )\n",
        "G.add_edge( 18,17 )\n",
        "G.add_edge( 18,19 )\n",
        "G.add_edge( 18,20 )\n",
        "\n",
        "G.add_edge( 19,12 )\n",
        "G.add_edge( 19,14 )\n",
        "G.add_edge( 19,15 )\n",
        "G.add_edge( 19,17 )\n",
        "G.add_edge( 19,18 )\n",
        "G.add_edge( 19,20 )\n",
        "\n",
        "G.add_edge( 20,15 )\n",
        "G.add_edge( 20,18 )\n",
        "G.add_edge( 20,19 )\n",
        "\n"
      ],
      "execution_count": null,
      "outputs": []
    },
    {
      "cell_type": "code",
      "metadata": {
        "colab": {
          "base_uri": "https://localhost:8080/",
          "height": 318
        },
        "id": "HPHGDZqvYSkv",
        "outputId": "56d6cd37-18b2-44ba-97dd-54357998ea44"
      },
      "source": [
        "nx.draw(G, with_labels=True, font_weight='bold'  )"
      ],
      "execution_count": null,
      "outputs": [
        {
          "output_type": "display_data",
          "data": {
            "image/png": "[encoded data removed]",
            "text/plain": [
              "<Figure size 432x288 with 1 Axes>"
            ]
          },
          "metadata": {
            "tags": []
          }
        }
      ]
    },
    {
      "cell_type": "code",
      "metadata": {
        "id": "0MyV2XyZYeJu"
      },
      "source": [
        "G.clear()"
      ],
      "execution_count": null,
      "outputs": []
    },
    {
      "cell_type": "code",
      "metadata": {
        "id": "xCsnw1jIZBRC"
      },
      "source": [
        "G.Add"
      ],
      "execution_count": null,
      "outputs": []
    }
  ]
}